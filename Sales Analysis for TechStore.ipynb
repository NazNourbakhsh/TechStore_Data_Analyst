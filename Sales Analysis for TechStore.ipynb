{
 "cells": [
  {
   "cell_type": "markdown",
   "id": "bed19dd3-5435-4491-9bfa-9118353284f5",
   "metadata": {},
   "source": [
    "#### Read CSV file and Clean the dataset"
   ]
  },
  {
   "cell_type": "code",
   "execution_count": 14,
   "id": "ef5a75b5-63dd-441f-b1fa-75f8f43411b8",
   "metadata": {
    "tags": []
   },
   "outputs": [
    {
     "name": "stdout",
     "output_type": "stream",
     "text": [
      "   order_id  order_date   product  quantity  price_per_unit\n",
      "0      1001  2024-01-05    Laptop         1            1200\n",
      "1      1002  2024-01-17     Mouse         2              25\n",
      "2      1003  2024-02-03  Keyboard         1              45\n",
      "3      1004  2024-02-09   Monitor         1             300\n",
      "4      1005  2024-02-25    Laptop         1             200\n",
      "<class 'pandas.core.frame.DataFrame'>\n",
      "RangeIndex: 10 entries, 0 to 9\n",
      "Data columns (total 5 columns):\n",
      " #   Column          Non-Null Count  Dtype \n",
      "---  ------          --------------  ----- \n",
      " 0   order_id        10 non-null     int64 \n",
      " 1   order_date      10 non-null     object\n",
      " 2   product         10 non-null     object\n",
      " 3   quantity        10 non-null     int64 \n",
      " 4   price_per_unit  10 non-null     int64 \n",
      "dtypes: int64(3), object(2)\n",
      "memory usage: 532.0+ bytes\n",
      "None\n",
      "         order_id   quantity  price_per_unit\n",
      "count    10.00000  10.000000       10.000000\n",
      "mean   1005.50000   1.300000      352.000000\n",
      "std       3.02765   0.483046      460.055552\n",
      "min    1001.00000   1.000000       25.000000\n",
      "25%    1003.25000   1.000000       30.000000\n",
      "50%    1005.50000   1.000000      200.000000\n",
      "75%    1007.75000   1.750000      300.000000\n",
      "max    1010.00000   2.000000     1200.000000\n"
     ]
    }
   ],
   "source": [
    "import pandas as pd\n",
    "df = pd.read_csv('techstore_sales.csv', sep = ',')\n",
    "print(df.head())\n",
    "print(df.info())\n",
    "print(df.describe())"
   ]
  },
  {
   "cell_type": "code",
   "execution_count": 15,
   "id": "71f2647a-149c-435a-912c-831d78bf13a4",
   "metadata": {
    "tags": []
   },
   "outputs": [
    {
     "name": "stdout",
     "output_type": "stream",
     "text": [
      "order_id          0\n",
      "order_date        0\n",
      "product           0\n",
      "quantity          0\n",
      "price_per_unit    0\n",
      "dtype: int64\n"
     ]
    }
   ],
   "source": [
    "print(df.isnull().sum())"
   ]
  },
  {
   "cell_type": "code",
   "execution_count": 16,
   "id": "86343304-41f8-4cf0-811b-9d8553571f13",
   "metadata": {
    "tags": []
   },
   "outputs": [
    {
     "name": "stdout",
     "output_type": "stream",
     "text": [
      "0\n"
     ]
    }
   ],
   "source": [
    "print(df.duplicated().sum())"
   ]
  },
  {
   "cell_type": "code",
   "execution_count": 17,
   "id": "c26a4da7-8130-4395-aced-49913d7f1e64",
   "metadata": {
    "tags": []
   },
   "outputs": [],
   "source": [
    "df['order_date'] = pd.to_datetime(df['order_date'], errors = 'coerce')"
   ]
  },
  {
   "cell_type": "code",
   "execution_count": 18,
   "id": "21dcbf69-60b3-4a12-81cb-f28dd9ad6962",
   "metadata": {
    "tags": []
   },
   "outputs": [
    {
     "name": "stdout",
     "output_type": "stream",
     "text": [
      "<class 'pandas.core.frame.DataFrame'>\n",
      "RangeIndex: 10 entries, 0 to 9\n",
      "Data columns (total 5 columns):\n",
      " #   Column          Non-Null Count  Dtype         \n",
      "---  ------          --------------  -----         \n",
      " 0   order_id        10 non-null     int64         \n",
      " 1   order_date      10 non-null     datetime64[ns]\n",
      " 2   product         10 non-null     object        \n",
      " 3   quantity        10 non-null     int64         \n",
      " 4   price_per_unit  10 non-null     int64         \n",
      "dtypes: datetime64[ns](1), int64(3), object(1)\n",
      "memory usage: 532.0+ bytes\n",
      "None\n"
     ]
    }
   ],
   "source": [
    "print(df.info())"
   ]
  },
  {
   "cell_type": "markdown",
   "id": "8d26b9db-25ed-4426-bc82-1d4e559ea69d",
   "metadata": {},
   "source": [
    "### Create a new column 'total_revenue' and Find the top 5 products by total revenue\n"
   ]
  },
  {
   "cell_type": "code",
   "execution_count": 19,
   "id": "0220e04e-1fd4-4cf8-aa0f-6d3c98e3c326",
   "metadata": {
    "tags": []
   },
   "outputs": [
    {
     "data": {
      "text/html": [
       "<div>\n",
       "<style scoped>\n",
       "    .dataframe tbody tr th:only-of-type {\n",
       "        vertical-align: middle;\n",
       "    }\n",
       "\n",
       "    .dataframe tbody tr th {\n",
       "        vertical-align: top;\n",
       "    }\n",
       "\n",
       "    .dataframe thead th {\n",
       "        text-align: right;\n",
       "    }\n",
       "</style>\n",
       "<table border=\"1\" class=\"dataframe\">\n",
       "  <thead>\n",
       "    <tr style=\"text-align: right;\">\n",
       "      <th></th>\n",
       "      <th>order_id</th>\n",
       "      <th>order_date</th>\n",
       "      <th>product</th>\n",
       "      <th>quantity</th>\n",
       "      <th>price_per_unit</th>\n",
       "      <th>total_revenue</th>\n",
       "    </tr>\n",
       "  </thead>\n",
       "  <tbody>\n",
       "    <tr>\n",
       "      <th>0</th>\n",
       "      <td>1001</td>\n",
       "      <td>2024-01-05</td>\n",
       "      <td>Laptop</td>\n",
       "      <td>1</td>\n",
       "      <td>1200</td>\n",
       "      <td>1200</td>\n",
       "    </tr>\n",
       "    <tr>\n",
       "      <th>1</th>\n",
       "      <td>1002</td>\n",
       "      <td>2024-01-17</td>\n",
       "      <td>Mouse</td>\n",
       "      <td>2</td>\n",
       "      <td>25</td>\n",
       "      <td>50</td>\n",
       "    </tr>\n",
       "    <tr>\n",
       "      <th>2</th>\n",
       "      <td>1003</td>\n",
       "      <td>2024-02-03</td>\n",
       "      <td>Keyboard</td>\n",
       "      <td>1</td>\n",
       "      <td>45</td>\n",
       "      <td>45</td>\n",
       "    </tr>\n",
       "    <tr>\n",
       "      <th>3</th>\n",
       "      <td>1004</td>\n",
       "      <td>2024-02-09</td>\n",
       "      <td>Monitor</td>\n",
       "      <td>1</td>\n",
       "      <td>300</td>\n",
       "      <td>300</td>\n",
       "    </tr>\n",
       "    <tr>\n",
       "      <th>4</th>\n",
       "      <td>1005</td>\n",
       "      <td>2024-02-25</td>\n",
       "      <td>Laptop</td>\n",
       "      <td>1</td>\n",
       "      <td>200</td>\n",
       "      <td>200</td>\n",
       "    </tr>\n",
       "  </tbody>\n",
       "</table>\n",
       "</div>"
      ],
      "text/plain": [
       "   order_id order_date   product  quantity  price_per_unit  total_revenue\n",
       "0      1001 2024-01-05    Laptop         1            1200           1200\n",
       "1      1002 2024-01-17     Mouse         2              25             50\n",
       "2      1003 2024-02-03  Keyboard         1              45             45\n",
       "3      1004 2024-02-09   Monitor         1             300            300\n",
       "4      1005 2024-02-25    Laptop         1             200            200"
      ]
     },
     "execution_count": 19,
     "metadata": {},
     "output_type": "execute_result"
    }
   ],
   "source": [
    "df['total_revenue'] = df['quantity'] * df['price_per_unit']\n",
    "df.head()"
   ]
  },
  {
   "cell_type": "code",
   "execution_count": 25,
   "id": "f2dae366-ee2c-4123-a0d8-9b8e00369ca7",
   "metadata": {
    "tags": []
   },
   "outputs": [
    {
     "name": "stdout",
     "output_type": "stream",
     "text": [
      "product\n",
      "Laptop      2600\n",
      "Monitor      600\n",
      "Printer      400\n",
      "Keyboard      95\n",
      "Mouse         75\n",
      "Name: total_revenue, dtype: int64\n"
     ]
    }
   ],
   "source": [
    "top_products = df.groupby('product')['total_revenue'].sum().sort_values(ascending = False).head(5)\n",
    "print(top_products)"
   ]
  },
  {
   "cell_type": "markdown",
   "id": "595aaae6-9033-4d4a-9d9d-e933389cf972",
   "metadata": {},
   "source": [
    "### Calculate Average revenue per order"
   ]
  },
  {
   "cell_type": "code",
   "execution_count": 26,
   "id": "64ae478e-91f5-406a-a2fa-b608ea664ae1",
   "metadata": {
    "tags": []
   },
   "outputs": [
    {
     "name": "stdout",
     "output_type": "stream",
     "text": [
      "377.0\n"
     ]
    }
   ],
   "source": [
    "avg_revenue = df['total_revenue'].mean()\n",
    "print(avg_revenue)"
   ]
  },
  {
   "cell_type": "markdown",
   "id": "fa10c40a-be07-4636-a8bb-8812c10a4167",
   "metadata": {},
   "source": [
    "### Visualization: Top products by total revenue"
   ]
  },
  {
   "cell_type": "code",
   "execution_count": 36,
   "id": "96a25e5a-b26b-49e9-9d8a-a2f5010f4441",
   "metadata": {
    "tags": []
   },
   "outputs": [
    {
     "data": {
      "image/png": "[encoded data removed]",
      "text/plain": [
       "<Figure size 800x500 with 1 Axes>"
      ]
     },
     "metadata": {},
     "output_type": "display_data"
    }
   ],
   "source": [
    "import matplotlib.pyplot as plt\n",
    "\n",
    "top_products.plot(kind = 'bar', figsize =(8, 5))\n",
    "plt.title('Top 5 Products by Total Revenue')\n",
    "plt.xlabel('Products')\n",
    "plt.ylabel('Total revenue ($)')\n",
    "plt.xticks(rotation=45)\n",
    "\n",
    "plt.show()"
   ]
  },
  {
   "cell_type": "code",
   "execution_count": null,
   "id": "19f6cda8-e38b-4116-ac82-387ed20726cc",
   "metadata": {},
   "outputs": [],
   "source": []
  }
 ],
 "metadata": {
  "kernelspec": {
   "display_name": "Python 3 (ipykernel)",
   "language": "python",
   "name": "python3"
  },
  "language_info": {
   "codemirror_mode": {
    "name": "ipython",
    "version": 3
   },
   "file_extension": ".py",
   "mimetype": "text/x-python",
   "name": "python",
   "nbconvert_exporter": "python",
   "pygments_lexer": "ipython3",
   "version": "3.11.5"
  }
 },
 "nbformat": 4,
 "nbformat_minor": 5
}
